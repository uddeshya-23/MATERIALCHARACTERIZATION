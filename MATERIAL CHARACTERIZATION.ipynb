{
 "cells": [
  {
   "cell_type": "code",
   "execution_count": 57,
   "id": "54adf650",
   "metadata": {},
   "outputs": [],
   "source": [
    "import numpy as np\n",
    "import seaborn as sns\n",
    "import matplotlib.pyplot as plt\n",
    "import pandas as pd\n",
    "#import dtale\n",
    "from sklearn.model_selection import train_test_split\n",
    "from sklearn import datasets, metrics\n",
    "\n",
    "from sklearn.pipeline import Pipeline\n",
    "from sklearn.preprocessing import PolynomialFeatures\n",
    "from sklearn.svm import SVR\n",
    "from sklearn.model_selection import cross_val_score, cross_val_predict\n",
    "from sklearn.linear_model import LinearRegression\n",
    "from sklearn.tree import DecisionTreeRegressor\n",
    "from sklearn.ensemble import RandomForestRegressor"
   ]
  },
  {
   "cell_type": "code",
   "execution_count": 58,
   "id": "aae67720",
   "metadata": {},
   "outputs": [
    {
     "data": {
      "text/html": [
       "<div>\n",
       "<style scoped>\n",
       "    .dataframe tbody tr th:only-of-type {\n",
       "        vertical-align: middle;\n",
       "    }\n",
       "\n",
       "    .dataframe tbody tr th {\n",
       "        vertical-align: top;\n",
       "    }\n",
       "\n",
       "    .dataframe thead th {\n",
       "        text-align: right;\n",
       "    }\n",
       "</style>\n",
       "<table border=\"1\" class=\"dataframe\">\n",
       "  <thead>\n",
       "    <tr style=\"text-align: right;\">\n",
       "      <th></th>\n",
       "      <th>Permittivity</th>\n",
       "      <th>df1</th>\n",
       "      <th>df2</th>\n",
       "      <th>df3</th>\n",
       "      <th>df4</th>\n",
       "      <th>df5</th>\n",
       "    </tr>\n",
       "  </thead>\n",
       "  <tbody>\n",
       "    <tr>\n",
       "      <th>0</th>\n",
       "      <td>9.4</td>\n",
       "      <td>0.4320</td>\n",
       "      <td>1.0890</td>\n",
       "      <td>1.8877</td>\n",
       "      <td>2.0340</td>\n",
       "      <td>0.7574</td>\n",
       "    </tr>\n",
       "    <tr>\n",
       "      <th>1</th>\n",
       "      <td>3.2</td>\n",
       "      <td>0.1620</td>\n",
       "      <td>0.4140</td>\n",
       "      <td>0.7409</td>\n",
       "      <td>0.7380</td>\n",
       "      <td>1.0904</td>\n",
       "    </tr>\n",
       "    <tr>\n",
       "      <th>2</th>\n",
       "      <td>5.0</td>\n",
       "      <td>0.2610</td>\n",
       "      <td>0.6660</td>\n",
       "      <td>1.1819</td>\n",
       "      <td>1.1970</td>\n",
       "      <td>1.2794</td>\n",
       "    </tr>\n",
       "    <tr>\n",
       "      <th>3</th>\n",
       "      <td>2.1</td>\n",
       "      <td>0.0900</td>\n",
       "      <td>0.2160</td>\n",
       "      <td>0.3809</td>\n",
       "      <td>1.5030</td>\n",
       "      <td>0.6944</td>\n",
       "    </tr>\n",
       "    <tr>\n",
       "      <th>4</th>\n",
       "      <td>6.5</td>\n",
       "      <td>0.3330</td>\n",
       "      <td>0.8370</td>\n",
       "      <td>1.4699</td>\n",
       "      <td>1.5120</td>\n",
       "      <td>1.8014</td>\n",
       "    </tr>\n",
       "    <tr>\n",
       "      <th>...</th>\n",
       "      <td>...</td>\n",
       "      <td>...</td>\n",
       "      <td>...</td>\n",
       "      <td>...</td>\n",
       "      <td>...</td>\n",
       "      <td>...</td>\n",
       "    </tr>\n",
       "    <tr>\n",
       "      <th>95</th>\n",
       "      <td>10.3</td>\n",
       "      <td>0.4088</td>\n",
       "      <td>1.0060</td>\n",
       "      <td>2.6028</td>\n",
       "      <td>2.5791</td>\n",
       "      <td>2.5403</td>\n",
       "    </tr>\n",
       "    <tr>\n",
       "      <th>96</th>\n",
       "      <td>11.4</td>\n",
       "      <td>0.4489</td>\n",
       "      <td>1.1060</td>\n",
       "      <td>2.8572</td>\n",
       "      <td>2.7829</td>\n",
       "      <td>2.7969</td>\n",
       "    </tr>\n",
       "    <tr>\n",
       "      <th>97</th>\n",
       "      <td>1.8</td>\n",
       "      <td>0.0984</td>\n",
       "      <td>0.2334</td>\n",
       "      <td>0.6372</td>\n",
       "      <td>1.0042</td>\n",
       "      <td>0.5011</td>\n",
       "    </tr>\n",
       "    <tr>\n",
       "      <th>98</th>\n",
       "      <td>1.5</td>\n",
       "      <td>0.0875</td>\n",
       "      <td>0.2061</td>\n",
       "      <td>0.5679</td>\n",
       "      <td>0.6420</td>\n",
       "      <td>0.5354</td>\n",
       "    </tr>\n",
       "    <tr>\n",
       "      <th>99</th>\n",
       "      <td>5.9</td>\n",
       "      <td>0.2481</td>\n",
       "      <td>0.6061</td>\n",
       "      <td>1.5853</td>\n",
       "      <td>0.6065</td>\n",
       "      <td>1.6649</td>\n",
       "    </tr>\n",
       "  </tbody>\n",
       "</table>\n",
       "<p>100 rows × 6 columns</p>\n",
       "</div>"
      ],
      "text/plain": [
       "    Permittivity     df1     df2     df3     df4     df5\n",
       "0            9.4  0.4320  1.0890  1.8877  2.0340  0.7574\n",
       "1            3.2  0.1620  0.4140  0.7409  0.7380  1.0904\n",
       "2            5.0  0.2610  0.6660  1.1819  1.1970  1.2794\n",
       "3            2.1  0.0900  0.2160  0.3809  1.5030  0.6944\n",
       "4            6.5  0.3330  0.8370  1.4699  1.5120  1.8014\n",
       "..           ...     ...     ...     ...     ...     ...\n",
       "95          10.3  0.4088  1.0060  2.6028  2.5791  2.5403\n",
       "96          11.4  0.4489  1.1060  2.8572  2.7829  2.7969\n",
       "97           1.8  0.0984  0.2334  0.6372  1.0042  0.5011\n",
       "98           1.5  0.0875  0.2061  0.5679  0.6420  0.5354\n",
       "99           5.9  0.2481  0.6061  1.5853  0.6065  1.6649\n",
       "\n",
       "[100 rows x 6 columns]"
      ]
     },
     "execution_count": 58,
     "metadata": {},
     "output_type": "execute_result"
    }
   ],
   "source": [
    "path = \"C:\\\\Users\\\\krishna\\\\Downloads\\\\new_data.csv\"\n",
    "\n",
    "dat = pd.read_csv(path)\n",
    "\n",
    "dat"
   ]
  },
  {
   "cell_type": "code",
   "execution_count": 59,
   "id": "e09bfe4c",
   "metadata": {},
   "outputs": [],
   "source": [
    "#Reading features IN X We need shifts of resonant feequency i.e. df1 \tdf2 \tdf3 \tdf4 \tdf5\n",
    "X = dat.iloc[:,1:6].values.astype(float)\n",
    "\n",
    "y = dat.iloc[:,0].values.astype(float)\n",
    "\n"
   ]
  },
  {
   "cell_type": "code",
   "execution_count": 4,
   "id": "a178630c",
   "metadata": {},
   "outputs": [],
   "source": [
    "# X, y, coef = make_regression(\n",
    "#     n_samples=n_samples_train + n_samples_test,\n",
    "#     n_features=n_features,\n",
    "#     n_informative=50,\n",
    "#     shuffle=False,\n",
    "#     noise=1.0,\n",
    "#     coef=True,\n",
    "# )"
   ]
  },
  {
   "cell_type": "code",
   "execution_count": 60,
   "id": "0b966341",
   "metadata": {},
   "outputs": [],
   "source": [
    "#Spitting data 80 percfent training ND FOR testing 20 percent\n",
    "X_train, X_test, y_train, y_test = train_test_split( X, y, test_size=0.2, random_state=1010)\n"
   ]
  },
  {
   "cell_type": "code",
   "execution_count": 61,
   "id": "6bf9b83a",
   "metadata": {},
   "outputs": [
    {
     "data": {
      "text/plain": [
       "array([ 3.8337887 ,  8.99370275, 12.09964197,  3.37143273,  1.96326362,\n",
       "        3.04639427,  8.93300987,  5.42284874,  2.07833147,  9.88195142,\n",
       "        8.2561251 ,  6.31318523,  8.5667158 ,  2.85833373,  7.99363563,\n",
       "        7.17782843,  9.53637426,  1.82341335,  5.60372787,  2.2197842 ])"
      ]
     },
     "execution_count": 61,
     "metadata": {},
     "output_type": "execute_result"
    }
   ],
   "source": [
    "#Linear Regression \n",
    "linreg = LinearRegression()\n",
    "linreg.fit(X_train, y_train)\n",
    "\n",
    "y_1 = linreg.predict(X_test)\n",
    "y_1"
   ]
  },
  {
   "cell_type": "code",
   "execution_count": 62,
   "id": "5096e308",
   "metadata": {
    "scrolled": true
   },
   "outputs": [
    {
     "name": "stdout",
     "output_type": "stream",
     "text": [
      "0.8474647480402977\n"
     ]
    }
   ],
   "source": [
    "#Cross validation for modelEVALUATION using stratified k-fold\n",
    "\n",
    "cv_1_results = cross_val_score(linreg, X, y, cv=10,scoring=\"r2\") ##CROSSVALIDATION for LR\n",
    "cv_1_results\n",
    "print(np.mean(cv_1_results))\n",
    "#AVEARGE R2 FOR LINEAR REGRESSION"
   ]
  },
  {
   "cell_type": "code",
   "execution_count": 63,
   "id": "0b062b27",
   "metadata": {},
   "outputs": [
    {
     "name": "stdout",
     "output_type": "stream",
     "text": [
      "0.6713445851871878\n"
     ]
    }
   ],
   "source": [
    "#AVEARGE RMSE FOR LINEAR REGRESSION\n",
    "cv__results = cross_val_score(linreg, X, y, cv=10,scoring=\"neg_mean_squared_error\") ##CROSSVALIDATION for LR\n",
    "cv__results\n",
    "print(np.mean(cv__results)*(-1))"
   ]
  },
  {
   "cell_type": "code",
   "execution_count": 67,
   "id": "9fd7896d",
   "metadata": {
    "scrolled": true
   },
   "outputs": [
    {
     "data": {
      "image/png": "[encoded data removed]",
      "text/plain": [
       "<Figure size 432x288 with 1 Axes>"
      ]
     },
     "metadata": {
      "needs_background": "light"
     },
     "output_type": "display_data"
    }
   ],
   "source": [
    "# cross_val_predict returns an array of the same size as `y` where each entry\n",
    "# is a prediction obtained by cross validation:\n",
    "predicted = cross_val_predict(linreg, X, y, cv=10)\n",
    "\n",
    "fig, ax = plt.subplots()\n",
    "ax.scatter(y, predicted, edgecolors=(0, 0, 0))\n",
    "ax.plot([y.min(), y.max()], [y.min(), y.max()], \"k--\", lw=5)\n",
    "ax.set_xlabel(\"Actual Permittivity\")\n",
    "ax.set_ylabel(\"Predicted\")\n",
    "plt.show()\n",
    "\n"
   ]
  },
  {
   "cell_type": "code",
   "execution_count": 14,
   "id": "5b9df66f",
   "metadata": {},
   "outputs": [],
   "source": [
    "#RandomForestREgressor\n",
    "rf = RandomForestRegressor(n_estimators=10, n_jobs=-1)\n",
    "rf.fit(X_train, y_train)\n",
    "y_2 = rf.predict(X_test)"
   ]
  },
  {
   "cell_type": "code",
   "execution_count": 15,
   "id": "62ed055e",
   "metadata": {
    "scrolled": true
   },
   "outputs": [
    {
     "name": "stdout",
     "output_type": "stream",
     "text": [
      "0.82950578396604\n"
     ]
    }
   ],
   "source": [
    "#Cross validation for modelEVALUATION using stratified k-fold  ---- FOR random forest REGRESSOR\n",
    "cv_2_results = cross_val_score(rf, X, y, cv=10,scoring=\"r2\")\n",
    "print(np.mean(cv_2_results))\n"
   ]
  },
  {
   "cell_type": "code",
   "execution_count": 16,
   "id": "85330dd6",
   "metadata": {},
   "outputs": [
    {
     "name": "stdout",
     "output_type": "stream",
     "text": [
      "0.84995482\n"
     ]
    }
   ],
   "source": [
    "#AVEARGE RMSE FOR RANDOM FOREST \n",
    "cv_2_rmse = cross_val_score(rf, X, y, cv=10,scoring=\"neg_mean_squared_error\")\n",
    "print(np.mean(cv_2_rmse)*-1)"
   ]
  },
  {
   "cell_type": "code",
   "execution_count": 201,
   "id": "98ec3231",
   "metadata": {
    "scrolled": true
   },
   "outputs": [
    {
     "data": {
      "image/png": "[encoded data removed]",
      "text/plain": [
       "<Figure size 432x288 with 1 Axes>"
      ]
     },
     "metadata": {
      "needs_background": "light"
     },
     "output_type": "display_data"
    },
    {
     "name": "stdout",
     "output_type": "stream",
     "text": [
      "[1.5, 12.2] [1.5, 12.2]\n"
     ]
    }
   ],
   "source": [
    "predicted = cross_val_predict(rf, X, y, cv=10)\n",
    "\n",
    "fig, ax = plt.subplots()\n",
    "ax.scatter(y, predicted, edgecolors=(0, 0, 0))\n",
    "ax.plot([y.min(), y.max()], [y.min(), y.max()], \"k--\", lw=5)\n",
    "ax.set_xlabel(\"Actual Permittivity\")\n",
    "ax.set_ylabel(\"Predicted\")\n",
    "plt.show()\n",
    "print([y.min(), y.max()], [y.min(), y.max()])"
   ]
  },
  {
   "cell_type": "code",
   "execution_count": 18,
   "id": "278ef715",
   "metadata": {},
   "outputs": [
    {
     "name": "stdout",
     "output_type": "stream",
     "text": [
      "1.6590750929157416\n"
     ]
    }
   ],
   "source": [
    "#DECISION TREE REGRESSOR\n",
    "regr_2 = DecisionTreeRegressor(max_depth=5)\n",
    "regr_2.fit(X_train, y_train)\n",
    "y_3= regr_2.predict(X_test)\n",
    "\n",
    "cv_3_rmse = cross_val_score(regr_2, X, y, cv=10,scoring=\"neg_mean_squared_error\")\n",
    "print(np.mean(cv_3_rmse)*-1)"
   ]
  },
  {
   "cell_type": "code",
   "execution_count": 19,
   "id": "90c6b567",
   "metadata": {},
   "outputs": [
    {
     "name": "stdout",
     "output_type": "stream",
     "text": [
      "0.835373437036725\n"
     ]
    }
   ],
   "source": [
    "cv_3_r2 = cross_val_score(rf, X, y, cv=10,scoring=\"r2\")\n",
    "print(np.mean(cv_3_r2))\n"
   ]
  },
  {
   "cell_type": "code",
   "execution_count": 199,
   "id": "be325924",
   "metadata": {},
   "outputs": [
    {
     "data": {
      "image/png": "[encoded data removed]",
      "text/plain": [
       "<Figure size 432x288 with 1 Axes>"
      ]
     },
     "metadata": {
      "needs_background": "light"
     },
     "output_type": "display_data"
    },
    {
     "data": {
      "text/plain": [
       "array([ 9.4 ,  3.2 ,  5.  ,  2.1 ,  6.5 ,  3.  , 12.2 , 10.  ,  3.5 ,\n",
       "        5.5 ,  8.6 ,  2.5 ,  2.6 ,  2.98,  4.1 ,  4.3 ,  4.5 ,  6.15,\n",
       "       10.2 ,  2.94,  2.2 ,  2.33,  2.17,  5.68,  4.  ,  4.8 ,  6.  ,\n",
       "        7.9 ,  2.31,  3.87,  2.91,  2.55,  2.7 ,  3.3 ,  3.35,  3.8 ,\n",
       "        4.4 ,  2.62,  5.7 ,  6.8 ,  7.  ,  9.  ,  9.6 ,  3.75, 11.2 ,\n",
       "        3.02,  6.6 , 10.8 ,  3.55,  3.66,  6.4 ,  3.7 ,  3.45,  2.64,\n",
       "        2.95,  2.75,  6.45, 10.7 ,  4.7 ,  9.8 ,  9.9 , 11.9 ,  2.8 ,\n",
       "        2.35,  2.97,  2.45,  2.65,  3.9 ,  4.78,  5.8 ,  6.9 ,  8.2 ,\n",
       "        8.5 ,  5.3 ,  8.55,  9.7 ,  9.66,  8.4 ,  8.3 ,  3.6 ,  4.9 ,\n",
       "        4.75,  6.75,  7.3 ,  7.4 ,  7.6 ,  7.8 ,  7.45, 11.5 ,  9.5 ,\n",
       "        9.2 ,  9.68,  5.66,  6.66,  7.86, 10.3 , 11.4 ,  1.8 ,  1.5 ,\n",
       "        5.9 ])"
      ]
     },
     "execution_count": 199,
     "metadata": {},
     "output_type": "execute_result"
    }
   ],
   "source": [
    "predicted = cross_val_predict(regr_2, X, y, cv=10)\n",
    "\n",
    "fig, ax = plt.subplots()\n",
    "ax.scatter(y, predicted, edgecolors=(0, 0, 0))\n",
    "ax.plot([y.min(), y.max()], [y.min(), y.max()], \"k--\", lw=5)\n",
    "ax.set_xlabel(\"Actual Permittivity\")\n",
    "ax.set_ylabel(\"Predicted\")\n",
    "plt.show()\n",
    "y"
   ]
  },
  {
   "cell_type": "code",
   "execution_count": null,
   "id": "04dd63df",
   "metadata": {},
   "outputs": [],
   "source": [
    "from sklearn.svm import SVR\n"
   ]
  },
  {
   "cell_type": "code",
   "execution_count": 27,
   "id": "97db017a",
   "metadata": {},
   "outputs": [],
   "source": [
    "svr_rbf = SVR(kernel=\"rbf\", C=100, gamma=0.1, epsilon=0.1)\n",
    "svr_lin = SVR(kernel=\"linear\", C=100, gamma=\"auto\")\n",
    "svr_poly = SVR(kernel=\"poly\", C=100, gamma=\"auto\", degree=3, epsilon=0.1, coef0=1)"
   ]
  },
  {
   "cell_type": "code",
   "execution_count": 83,
   "id": "994e3ef9",
   "metadata": {},
   "outputs": [
    {
     "name": "stdout",
     "output_type": "stream",
     "text": [
      "0.7349526149842143\n"
     ]
    }
   ],
   "source": [
    "svr_rbf.fit(X_train, y_train)\n",
    "y_5= svr_rbf.predict(X_test)\n",
    "\n",
    "cv_5_rmse = cross_val_score(svr_rbf, X, y, cv=10,scoring=\"neg_mean_squared_error\")\n",
    "print(np.mean(cv_5_rmse)*-1)"
   ]
  },
  {
   "cell_type": "code",
   "execution_count": 84,
   "id": "addb5edc",
   "metadata": {},
   "outputs": [
    {
     "name": "stdout",
     "output_type": "stream",
     "text": [
      "0.8603951303462509\n"
     ]
    }
   ],
   "source": [
    "cv_5_r2 = cross_val_score(svr_rbf, X, y, cv=10,scoring=\"r2\")\n",
    "print(np.mean(cv_5_r2))\n"
   ]
  },
  {
   "cell_type": "code",
   "execution_count": 85,
   "id": "5338636e",
   "metadata": {},
   "outputs": [
    {
     "name": "stdout",
     "output_type": "stream",
     "text": [
      "0.6153016071794357\n"
     ]
    }
   ],
   "source": [
    "svr_lin.fit(X_train, y_train)\n",
    "y_6= svr_lin.predict(X_test)\n",
    "\n",
    "cv_6_rmse = cross_val_score(svr_lin, X, y, cv=10,scoring=\"neg_mean_squared_error\")\n",
    "print(np.mean(cv_6_rmse)*-1)"
   ]
  },
  {
   "cell_type": "code",
   "execution_count": 86,
   "id": "dc671a4a",
   "metadata": {},
   "outputs": [
    {
     "name": "stdout",
     "output_type": "stream",
     "text": [
      "0.8658590938527695\n"
     ]
    }
   ],
   "source": [
    "cv_6_r2 = cross_val_score(svr_lin, X, y, cv=10,scoring=\"r2\")\n",
    "print(np.mean(cv_6_r2))"
   ]
  },
  {
   "cell_type": "code",
   "execution_count": 87,
   "id": "8e264107",
   "metadata": {},
   "outputs": [
    {
     "name": "stdout",
     "output_type": "stream",
     "text": [
      "1.2736087432022065\n"
     ]
    }
   ],
   "source": [
    "svr_poly.fit(X_train, y_train)\n",
    "y_7= svr_poly.predict(X_test)\n",
    "\n",
    "cv_7_rmse = cross_val_score(svr_poly, X, y, cv=10,scoring=\"neg_mean_squared_error\")\n",
    "print(np.mean(cv_7_rmse)*-1)"
   ]
  },
  {
   "cell_type": "code",
   "execution_count": 88,
   "id": "a21bdf1f",
   "metadata": {},
   "outputs": [
    {
     "name": "stdout",
     "output_type": "stream",
     "text": [
      "0.8100502544972834\n"
     ]
    }
   ],
   "source": [
    "cv_7_r2 = cross_val_score(svr_poly, X, y, cv=10,scoring=\"r2\")\n",
    "print(np.mean(cv_7_r2))"
   ]
  },
  {
   "cell_type": "code",
   "execution_count": 114,
   "id": "c73d435c",
   "metadata": {},
   "outputs": [
    {
     "data": {
      "image/png": "[encoded data removed]",
      "text/plain": [
       "<Figure size 432x288 with 1 Axes>"
      ]
     },
     "metadata": {
      "needs_background": "light"
     },
     "output_type": "display_data"
    },
    {
     "data": {
      "image/png": "[encoded data removed]",
      "text/plain": [
       "<Figure size 432x288 with 1 Axes>"
      ]
     },
     "metadata": {
      "needs_background": "light"
     },
     "output_type": "display_data"
    }
   ],
   "source": [
    "predicted = cross_val_predict(svr_lin, X, y, cv=10)\n",
    "\n",
    "fig, ax = plt.subplots()\n",
    "ax.scatter(y, predicted, edgecolors=(0, 0, 0))\n",
    "ax.plot([y.min(), y.max()], [y.min(), y.max()], \"k--\", lw=5)\n",
    "ax.set_xlabel(\"Actual Permittivity\")\n",
    "ax.set_ylabel(\"Predicted\")\n",
    "ax.set_title(\"SVR LINEAR KERNEL\")\n",
    "plt.show()\n",
    "# predicted = cross_val_predict(svr_poly, X, y, cv=10)\n",
    "\n",
    "# fig, ax = plt.subplots()\n",
    "# ax.scatter(y, predicted, edgecolors=(0, 0, 0))\n",
    "# ax.plot([y.min(), y.max()], [y.min(), y.max()], \"k--\", lw=5)\n",
    "# ax.set_title(\"NON_LINEAR KERNEL\")\n",
    "# ax.set_xlabel(\"Actual Permittivity\")\n",
    "# ax.set_ylabel(\"Predicted\")\n",
    "\n",
    "# plt.show()\n",
    "\n",
    "predicted = cross_val_predict(svr_rbf, X, y, cv=10)\n",
    "\n",
    "fig, ax = plt.subplots()\n",
    "ax.scatter(y, predicted, edgecolors=(0, 0, 0))\n",
    "ax.plot([y.min(), y.max()], [y.min(), y.max()], \"k--\", lw=5)\n",
    "ax.set_title(\"SVR NON_LINEAR KERNEL\")\n",
    "ax.set_xlabel(\"Actual Permittivity\")\n",
    "ax.set_ylabel(\"Predicted\")\n",
    "plt.show()\n"
   ]
  },
  {
   "cell_type": "code",
   "execution_count": 183,
   "id": "8b02f92f",
   "metadata": {},
   "outputs": [
    {
     "name": "stdout",
     "output_type": "stream",
     "text": [
      "[ 9.4   3.2   5.    2.1   6.5   3.   12.2  10.    3.5   5.5   8.6   2.5\n",
      "  2.6   2.98  4.1   4.3   4.5   6.15 10.2   2.94  2.2   2.33  2.17  5.68\n",
      "  4.    4.8   6.    7.9   2.31  3.87  2.91  2.55  2.7   3.3   3.35  3.8\n",
      "  4.4   2.62  5.7   6.8   7.    9.    9.6   3.75 11.2   3.02  6.6  10.8\n",
      "  3.55  3.66  6.4   3.7   3.45  2.64  2.95  2.75  6.45 10.7   4.7   9.8\n",
      "  9.9  11.9   2.8   2.35  2.97  2.45  2.65  3.9   4.78  5.8   6.9   8.2\n",
      "  8.5   5.3   8.55  9.7   9.66  8.4   8.3   3.6   4.9   4.75  6.75  7.3\n",
      "  7.4   7.6   7.8   7.45 11.5   9.5   9.2   9.68  5.66  6.66  7.86 10.3\n",
      " 11.4   1.8   1.5   5.9 ]\n"
     ]
    },
    {
     "data": {
      "image/png": "[encoded data removed]",
      "text/plain": [
       "<Figure size 432x288 with 1 Axes>"
      ]
     },
     "metadata": {
      "needs_background": "light"
     },
     "output_type": "display_data"
    },
    {
     "data": {
      "text/plain": [
       "11.5"
      ]
     },
     "execution_count": 183,
     "metadata": {},
     "output_type": "execute_result"
    }
   ],
   "source": [
    "\n",
    "# look at the results\n",
    "import pylab as pl\n",
    "\n",
    "print((y.ravel()))\n",
    "pl.scatter(y_test, y_test, c='k', label='data')\n",
    "# pl.hold('on')\n",
    "pl.plot(y_test[1:5], y_5[1:5], c='g', label='RBF model')\n",
    "pl.plot(y_test[1:5], y_6[1:5], c='r', label='Linear model')\n",
    "pl.plot(y_test[1:5], y_7[1:5], c='b', label='Polynomial model')\n",
    "pl.xlabel('data')\n",
    "pl.ylabel('Actual permittivity')\n",
    "pl.title('Support Vector Regression')\n",
    "pl.legend()\n",
    "pl.show()\n",
    "y_test[2]"
   ]
  },
  {
   "cell_type": "code",
   "execution_count": 195,
   "id": "d438c941",
   "metadata": {},
   "outputs": [],
   "source": [
    "from sklearn.ensemble import VotingRegressor\n",
    "ereg = VotingRegressor([(\"DT\", regr_2), (\"rf\", rf), (\"lr\", linreg)])\n",
    "ereg.fit(X_train, y_train)\n",
    "pred4=ereg.predict(X_test)"
   ]
  },
  {
   "cell_type": "code",
   "execution_count": 196,
   "id": "97d371bd",
   "metadata": {},
   "outputs": [
    {
     "name": "stdout",
     "output_type": "stream",
     "text": [
      "0.8358490531041769\n"
     ]
    }
   ],
   "source": [
    "cv_4_r2 = cross_val_score(ereg, X, y, cv=10,scoring=\"r2\")\n",
    "print(np.mean(cv_4_r2))\n"
   ]
  },
  {
   "cell_type": "code",
   "execution_count": 197,
   "id": "dd0ab2ed",
   "metadata": {},
   "outputs": [
    {
     "name": "stdout",
     "output_type": "stream",
     "text": [
      "0.7833162147434028\n"
     ]
    }
   ],
   "source": [
    "cv_4_rmse=cross_val_score(ereg, X, y, cv=10,scoring=\"neg_mean_squared_error\")\n",
    "print(np.mean(cv_4_rmse)*-1)"
   ]
  },
  {
   "cell_type": "code",
   "execution_count": 187,
   "id": "4b883f6b",
   "metadata": {},
   "outputs": [
    {
     "name": "stdout",
     "output_type": "stream",
     "text": [
      "[[3.4994924568636137, 3.8337887044982857], [8.781738694129295, 9.89], [10.2, 13.34113153401514], [3.2395346552267554, 3.6766666666666663], [1.9632636249116588, 2.5986031200882778], [2.89625, 3.1100305316220953], [8.805273653294131, 10.5], [3.6766666666666663, 5.86706658715817], [2.078331472500407, 2.457], [5.05, 12.89870319302505], [8.041306699133393, 9.693333333333333], [3.6766666666666663, 7.856368461875057], [8.397687001217315, 9.906540660011466], [2.7180000000000004, 2.89625], [7.15, 7.994947221565177], [6.977312323126676, 8.2], [8.841999999999999, 12.2], [1.8234133532409298, 2.406015143090137], [5.1530000000000005, 5.7], [2.135, 2.5197021814894285]]\n"
     ]
    }
   ],
   "source": [
    "pred_range = []\n",
    "for i in range(len(y_test)):\n",
    "    pred_range.append([min(y_1[i],y_2[i],y_3[i],pred4[i],y_5[i],y_6[i],y_7[i]), max(y_1[i],y_2[i],y_3[i],pred4[i],y_5[i],y_6[i],y_7[i])])\n",
    "\n",
    "print(pred_range)"
   ]
  },
  {
   "cell_type": "code",
   "execution_count": 124,
   "id": "2e118841",
   "metadata": {},
   "outputs": [
    {
     "data": {
      "text/plain": [
       "array([ 3.6 ,  9.68, 11.5 ,  3.55,  6.  ,  2.94,  8.6 ,  6.4 ,  2.55,\n",
       "       10.8 ,  8.4 ,  6.6 ,  9.2 ,  2.33,  7.4 ,  6.8 , 11.9 ,  1.5 ,\n",
       "        5.8 ,  1.8 ])"
      ]
     },
     "execution_count": 124,
     "metadata": {},
     "output_type": "execute_result"
    }
   ],
   "source": [
    "y_test"
   ]
  },
  {
   "cell_type": "code",
   "execution_count": 198,
   "id": "e196d27c",
   "metadata": {
    "scrolled": true
   },
   "outputs": [
    {
     "data": {
      "image/png": "[encoded data removed]",
      "text/plain": [
       "<Figure size 432x288 with 1 Axes>"
      ]
     },
     "metadata": {
      "needs_background": "light"
     },
     "output_type": "display_data"
    }
   ],
   "source": [
    "predicted = cross_val_predict(ereg, X, y, cv=10)\n",
    "\n",
    "fig, ax = plt.subplots()\n",
    "ax.scatter(y, predicted, edgecolors=(0, 0, 0))\n",
    "ax.plot([y.min(), y.max()], [y.min(), y.max()], \"k--\", lw=5)\n",
    "ax.set_xlabel(\"Actual Permittivity\")\n",
    "ax.set_ylabel(\"Predicted\")\n",
    "plt.show()\n",
    "\n",
    "\n"
   ]
  },
  {
   "cell_type": "code",
   "execution_count": 43,
   "id": "61e5e104",
   "metadata": {},
   "outputs": [
    {
     "data": {
      "image/png": "[encoded data removed]",
      "text/plain": [
       "<Figure size 432x288 with 1 Axes>"
      ]
     },
     "metadata": {
      "needs_background": "light"
     },
     "output_type": "display_data"
    },
    {
     "data": {
      "text/plain": [
       "numpy.ndarray"
      ]
     },
     "execution_count": 43,
     "metadata": {},
     "output_type": "execute_result"
    }
   ],
   "source": [
    "plt.figure()\n",
    "# plt.plot(y_test,\"bo\",label=\"Actual\")\n",
    "\n",
    "plt.plot(y_1, \"gd\", label=\"LinearRegression\")\n",
    "plt.plot(y_2, \"b^\", label=\"RandomForestRegressor\")\n",
    "plt.plot(y_3, \"ys\", label=\"DecessionTreeRegression\")\n",
    "plt.plot(pred4, \"r*\", ms=10, label=\"VotingRegressor\")\n",
    "# plt.plot(pre, \"--\", ms=10, label=\"SVR\")\n",
    "\n",
    "\n",
    "plt.tick_params(axis=\"x\", which=\"both\", bottom=False, top=False, labelbottom=False)\n",
    "plt.ylabel(\"predicted\")\n",
    "plt.xlabel(\"training samples\")\n",
    "plt.legend(loc=\"best\")\n",
    "plt.title(\"Regressor predictions and their average\")\n",
    "\n",
    "plt.show()\n",
    "# type(y_test)\n",
    "type(pred4)"
   ]
  },
  {
   "cell_type": "code",
   "execution_count": 44,
   "id": "7ac5487e",
   "metadata": {},
   "outputs": [],
   "source": [
    "from sklearn.datasets import make_regression\n",
    "n_samples_train, n_samples_test, n_features = 80, 20, 100\n",
    "X, y, coef = make_regression(\n",
    "    n_samples=n_samples_train + n_samples_test,\n",
    "    n_features=n_features,\n",
    "    n_informative=50,\n",
    "    shuffle=False,\n",
    "    noise=1.0,\n",
    "    coef=True,\n",
    ")\n",
    "X_train, X_test, y_train, y_test = train_test_split(\n",
    "    X, y, train_size=n_samples_train, test_size=n_samples_test, shuffle=False, random_state=1010\n",
    ")"
   ]
  },
  {
   "cell_type": "code",
   "execution_count": 266,
   "id": "f1f1cb26",
   "metadata": {},
   "outputs": [
    {
     "data": {
      "image/png": "[encoded data removed]",
      "text/plain": [
       "<Figure size 432x288 with 1 Axes>"
      ]
     },
     "metadata": {
      "needs_background": "light"
     },
     "output_type": "display_data"
    }
   ],
   "source": []
  },
  {
   "cell_type": "code",
   "execution_count": 126,
   "id": "9449d534",
   "metadata": {},
   "outputs": [
    {
     "name": "stdout",
     "output_type": "stream",
     "text": [
      "Optimal regularization parameter : 1e-05\n"
     ]
    },
    {
     "data": {
      "text/plain": [
       "array([6.96736379, 0.67600526, 1.55201538, 0.51806877, 0.94818466])"
      ]
     },
     "execution_count": 126,
     "metadata": {},
     "output_type": "execute_result"
    }
   ],
   "source": [
    "from sklearn import linear_model\n",
    "\n",
    "#Compute train and test errors\n",
    "\n",
    "alphas = np.logspace(-5, 1, 60)\n",
    "enet = linear_model.ElasticNet(l1_ratio=0.7, max_iter=10000)\n",
    "train_errors = list()\n",
    "test_errors = list()\n",
    "for alpha in alphas:\n",
    "    enet.set_params(alpha=alpha)\n",
    "    enet.fit(X_train, y_train)\n",
    "    train_errors.append(enet.score(X_train, y_train))\n",
    "    test_errors.append(enet.score(X_test, y_test))\n",
    "\n",
    "i_alpha_optim = np.argmax(test_errors)\n",
    "alpha_optim = alphas[i_alpha_optim]\n",
    "print(\"Optimal regularization parameter : %s\" % alpha_optim)\n",
    "\n",
    "# Estimate the coef_ on full data with optimal regularization parameter\n",
    "enet.set_params(alpha=alpha_optim)\n",
    "coef_= enet.fit(X, y).coef_\n",
    "coef_"
   ]
  },
  {
   "cell_type": "code",
   "execution_count": 127,
   "id": "0f6cd7b8",
   "metadata": {},
   "outputs": [
    {
     "data": {
      "text/plain": [
       "[0.8731428535205901,\n",
       " 0.8731356875823963,\n",
       " 0.8731266251301592,\n",
       " 0.8731151623751768,\n",
       " 0.873100625036143,\n",
       " 0.8730822743938464,\n",
       " 0.8730589943162229,\n",
       " 0.8730295806577014,\n",
       " 0.8730000392515167,\n",
       " 0.8729554848948803,\n",
       " 0.8728953870972063,\n",
       " 0.8728191119224195,\n",
       " 0.8727222309593319,\n",
       " 0.8725990814114581,\n",
       " 0.8724424276611648,\n",
       " 0.8722430481533836,\n",
       " 0.8719920896285296,\n",
       " 0.8716690265527113,\n",
       " 0.8712586555725104,\n",
       " 0.8707390252609173,\n",
       " 0.8700867772792706,\n",
       " 0.8692668537737727,\n",
       " 0.8682548261251326,\n",
       " 0.8670286455901806,\n",
       " 0.8655665975059644,\n",
       " 0.8638656229668515,\n",
       " 0.8619432278757051,\n",
       " 0.8598417599183161,\n",
       " 0.857626659082074,\n",
       " 0.855380510983762,\n",
       " 0.8531921199498775,\n",
       " 0.8511397515031875,\n",
       " 0.849277959744094,\n",
       " 0.847626766458673,\n",
       " 0.8474012295974099,\n",
       " 0.8476788332245984,\n",
       " 0.8477115494946067,\n",
       " 0.8473587294161562,\n",
       " 0.8464357038020247,\n",
       " 0.8446946178152035,\n",
       " 0.8417964884566884,\n",
       " 0.8372626613406831,\n",
       " 0.8304012460657667,\n",
       " 0.8202036633590255,\n",
       " 0.8051920584022847,\n",
       " 0.7832592412232517,\n",
       " 0.751461268502643,\n",
       " 0.7063484509536568,\n",
       " 0.6430106885667575,\n",
       " 0.5556898568033172,\n",
       " 0.43800936986879035,\n",
       " 0.2996640597124025,\n",
       " 0.13927514817294184,\n",
       " -0.011976024354241055,\n",
       " -0.044930407896055735,\n",
       " -0.044930407896055735,\n",
       " -0.044930407896055735,\n",
       " -0.044930407896055735,\n",
       " -0.044930407896055735,\n",
       " -0.044930407896055735]"
      ]
     },
     "execution_count": 127,
     "metadata": {},
     "output_type": "execute_result"
    },
    {
     "data": {
      "image/png": "[encoded data removed]",
      "text/plain": [
       "<Figure size 432x288 with 1 Axes>"
      ]
     },
     "metadata": {
      "needs_background": "light"
     },
     "output_type": "display_data"
    }
   ],
   "source": [
    "plt.subplot(1, 1, 1)\n",
    "plt.semilogx(alphas, train_errors, label=\"Train\")\n",
    "plt.semilogx(alphas, test_errors, label=\"Test\")\n",
    "plt.vlines(\n",
    "    alpha_optim,\n",
    "    plt.ylim()[0],\n",
    "    np.max(test_errors),\n",
    "    color=\"k\",\n",
    "    linewidth=3,.\n",
    "    label=\"Optimum on test\",\n",
    ")\n",
    "plt.legend(loc=\"lower left\")\n",
    "plt.ylim([0, 1.2])\n",
    "plt.xlabel(\"Regularization parameter\")\n",
    "plt.ylabel(\"Performance\")\n",
    "\n",
    "train_errors\n",
    "test_errors\n"
   ]
  },
  {
   "cell_type": "code",
   "execution_count": 128,
   "id": "67fc7bd7",
   "metadata": {},
   "outputs": [
    {
     "data": {
      "image/png": "[encoded data removed]",
      "text/plain": [
       "<Figure size 432x288 with 1 Axes>"
      ]
     },
     "metadata": {
      "needs_background": "light"
     },
     "output_type": "display_data"
    },
    {
     "data": {
      "text/plain": [
       "array([ 3.6 ,  9.68, 11.5 ,  3.55,  6.  ,  2.94,  8.6 ,  6.4 ,  2.55,\n",
       "       10.8 ,  8.4 ,  6.6 ,  9.2 ,  2.33,  7.4 ,  6.8 , 11.9 ,  1.5 ,\n",
       "        5.8 ,  1.8 ])"
      ]
     },
     "execution_count": 128,
     "metadata": {},
     "output_type": "execute_result"
    }
   ],
   "source": [
    "\n",
    "# Show estimated coef_ vs true coef\n",
    "plt.subplot(2, 1, 2)\n",
    "plt.title(\"Train error vs Test error\")\n",
    "plt.plot(coef, label=\"True coef\")\n",
    "plt.plot(coef_, label=\"Estimated coef\")\n",
    "plt.legend()\n",
    "plt.xlabel(\"Train Error\")\n",
    "plt.ylabel(\"Test Error\")\n",
    "\n",
    "plt.subplots_adjust(0.09, 0.04, 0.94, 0.94, 0.26, 0.26)\n",
    "plt.show()\n",
    "y_test"
   ]
  },
  {
   "cell_type": "code",
   "execution_count": 179,
   "id": "b744355f",
   "metadata": {},
   "outputs": [
    {
     "data": {
      "image/png": "[encoded data removed]",
      "text/plain": [
       "<Figure size 432x288 with 1 Axes>"
      ]
     },
     "metadata": {
      "needs_background": "light"
     },
     "output_type": "display_data"
    }
   ],
   "source": [
    "from matplotlib import collections  as mc\n",
    "# --------------------------------------------------------------------------------------------------\n",
    "fig, axs = plt.subplots(1, 1, sharex=True, sharey=True)\n",
    "axs.set_title('predicted permittivity range vs actual permittivity')\n",
    "axs.scatter(X_test[14:19,4], y_test[14:19], s=100, marker=\"x\", label='actual values') # actual values\n",
    "lines = [\n",
    "\t[(X_test[14, 4], pred_range[14][0]), (X_test[14, 4], pred_range[14][1])],\n",
    " \t[(X_test[15, 4], pred_range[15][0]), (X_test[15, 4], pred_range[15][1])],\n",
    " \t[(X_test[16, 4], pred_range[16][0]), (X_test[16, 4], pred_range[16][1])],\n",
    " \t[(X_test[17, 4], pred_range[17][0]), (X_test[17, 4], pred_range[17][1])],\n",
    " \t[(X_test[18, 4], pred_range[18][0]), (X_test[18, 4], pred_range[18][1])],\n",
    " ]\n",
    "lc = mc.LineCollection(lines, linewidths=2)\n",
    "axs.add_collection(lc)\n",
    "axs.autoscale()\n",
    "axs.set_xlabel(\"Frequency\")\n",
    "axs.set_ylabel(\"Permittivity\")\n",
    "axs.legend(loc='upper left')\n",
    "plt.tight_layout()\n",
    "plt.show()\n"
   ]
  },
  {
   "cell_type": "code",
   "execution_count": null,
   "id": "cf448994",
   "metadata": {},
   "outputs": [],
   "source": [
    "dat.info()"
   ]
  },
  {
   "cell_type": "code",
   "execution_count": 224,
   "id": "73eb17b5",
   "metadata": {
    "scrolled": true
   },
   "outputs": [
    {
     "data": {
      "text/html": [
       "<div>\n",
       "<style scoped>\n",
       "    .dataframe tbody tr th:only-of-type {\n",
       "        vertical-align: middle;\n",
       "    }\n",
       "\n",
       "    .dataframe tbody tr th {\n",
       "        vertical-align: top;\n",
       "    }\n",
       "\n",
       "    .dataframe thead th {\n",
       "        text-align: right;\n",
       "    }\n",
       "</style>\n",
       "<table border=\"1\" class=\"dataframe\">\n",
       "  <thead>\n",
       "    <tr style=\"text-align: right;\">\n",
       "      <th></th>\n",
       "      <th>Permittivity</th>\n",
       "      <th>df1</th>\n",
       "      <th>df2</th>\n",
       "      <th>df3</th>\n",
       "      <th>df4</th>\n",
       "      <th>df5</th>\n",
       "    </tr>\n",
       "  </thead>\n",
       "  <tbody>\n",
       "    <tr>\n",
       "      <th>count</th>\n",
       "      <td>100.000000</td>\n",
       "      <td>100.000000</td>\n",
       "      <td>100.000000</td>\n",
       "      <td>100.000000</td>\n",
       "      <td>100.000000</td>\n",
       "      <td>100.000000</td>\n",
       "    </tr>\n",
       "    <tr>\n",
       "      <th>mean</th>\n",
       "      <td>5.819000</td>\n",
       "      <td>0.262426</td>\n",
       "      <td>0.666201</td>\n",
       "      <td>1.235617</td>\n",
       "      <td>1.464119</td>\n",
       "      <td>1.462218</td>\n",
       "    </tr>\n",
       "    <tr>\n",
       "      <th>std</th>\n",
       "      <td>2.913704</td>\n",
       "      <td>0.119483</td>\n",
       "      <td>0.375240</td>\n",
       "      <td>0.620475</td>\n",
       "      <td>0.551947</td>\n",
       "      <td>0.735654</td>\n",
       "    </tr>\n",
       "    <tr>\n",
       "      <th>min</th>\n",
       "      <td>1.500000</td>\n",
       "      <td>0.087500</td>\n",
       "      <td>0.142400</td>\n",
       "      <td>0.380900</td>\n",
       "      <td>0.455300</td>\n",
       "      <td>0.493300</td>\n",
       "    </tr>\n",
       "    <tr>\n",
       "      <th>25%</th>\n",
       "      <td>3.155000</td>\n",
       "      <td>0.156800</td>\n",
       "      <td>0.380325</td>\n",
       "      <td>0.700825</td>\n",
       "      <td>1.039175</td>\n",
       "      <td>0.889175</td>\n",
       "    </tr>\n",
       "    <tr>\n",
       "      <th>50%</th>\n",
       "      <td>5.400000</td>\n",
       "      <td>0.250500</td>\n",
       "      <td>0.590400</td>\n",
       "      <td>1.155600</td>\n",
       "      <td>1.396550</td>\n",
       "      <td>1.302500</td>\n",
       "    </tr>\n",
       "    <tr>\n",
       "      <th>75%</th>\n",
       "      <td>8.225000</td>\n",
       "      <td>0.347975</td>\n",
       "      <td>0.915300</td>\n",
       "      <td>1.637775</td>\n",
       "      <td>1.893075</td>\n",
       "      <td>1.938350</td>\n",
       "    </tr>\n",
       "    <tr>\n",
       "      <th>max</th>\n",
       "      <td>12.200000</td>\n",
       "      <td>0.603500</td>\n",
       "      <td>2.000600</td>\n",
       "      <td>2.857200</td>\n",
       "      <td>2.782900</td>\n",
       "      <td>3.880400</td>\n",
       "    </tr>\n",
       "  </tbody>\n",
       "</table>\n",
       "</div>"
      ],
      "text/plain": [
       "       Permittivity         df1         df2         df3         df4  \\\n",
       "count    100.000000  100.000000  100.000000  100.000000  100.000000   \n",
       "mean       5.819000    0.262426    0.666201    1.235617    1.464119   \n",
       "std        2.913704    0.119483    0.375240    0.620475    0.551947   \n",
       "min        1.500000    0.087500    0.142400    0.380900    0.455300   \n",
       "25%        3.155000    0.156800    0.380325    0.700825    1.039175   \n",
       "50%        5.400000    0.250500    0.590400    1.155600    1.396550   \n",
       "75%        8.225000    0.347975    0.915300    1.637775    1.893075   \n",
       "max       12.200000    0.603500    2.000600    2.857200    2.782900   \n",
       "\n",
       "              df5  \n",
       "count  100.000000  \n",
       "mean     1.462218  \n",
       "std      0.735654  \n",
       "min      0.493300  \n",
       "25%      0.889175  \n",
       "50%      1.302500  \n",
       "75%      1.938350  \n",
       "max      3.880400  "
      ]
     },
     "execution_count": 224,
     "metadata": {},
     "output_type": "execute_result"
    }
   ],
   "source": [
    "dat.describe()"
   ]
  },
  {
   "cell_type": "code",
   "execution_count": null,
   "id": "11e87a39",
   "metadata": {},
   "outputs": [],
   "source": []
  },
  {
   "cell_type": "code",
   "execution_count": null,
   "id": "01eb62a0",
   "metadata": {},
   "outputs": [],
   "source": []
  },
  {
   "cell_type": "code",
   "execution_count": null,
   "id": "37ef66c1",
   "metadata": {},
   "outputs": [],
   "source": []
  },
  {
   "cell_type": "code",
   "execution_count": null,
   "id": "0d9bd422",
   "metadata": {},
   "outputs": [],
   "source": []
  },
  {
   "cell_type": "code",
   "execution_count": null,
   "id": "fea2f87a",
   "metadata": {},
   "outputs": [],
   "source": []
  }
 ],
 "metadata": {
  "kernelspec": {
   "display_name": "Python 3 (ipykernel)",
   "language": "python",
   "name": "python3"
  },
  "language_info": {
   "codemirror_mode": {
    "name": "ipython",
    "version": 3
   },
   "file_extension": ".py",
   "mimetype": "text/x-python",
   "name": "python",
   "nbconvert_exporter": "python",
   "pygments_lexer": "ipython3",
   "version": "3.9.7"
  }
 },
 "nbformat": 4,
 "nbformat_minor": 5
}
